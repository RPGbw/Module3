{
 "cells": [
  {
   "cell_type": "code",
   "execution_count": null,
   "id": "b4799c34-73f9-4f96-b881-7b54ad7440b1",
   "metadata": {},
   "outputs": [],
   "source": []
  },
  {
   "cell_type": "code",
   "execution_count": 7,
   "id": "27723b7d-984f-467d-8f31-3687cdcd7613",
   "metadata": {},
   "outputs": [
    {
     "name": "stdout",
     "output_type": "stream",
     "text": [
      "Writing zoo.py\n"
     ]
    }
   ],
   "source": [
    "%%writefile zoo.py\n",
    "def hours():\n",
    "    print(\"Open 9-5 daily\")"
   ]
  },
  {
   "cell_type": "code",
   "execution_count": 8,
   "id": "e2ff7b6b-5e6c-4a1e-a934-6409ec22a581",
   "metadata": {},
   "outputs": [
    {
     "name": "stdout",
     "output_type": "stream",
     "text": [
      "Open 9-5 daily\n"
     ]
    }
   ],
   "source": [
    "import zoo\n",
    "zoo.hours()"
   ]
  },
  {
   "cell_type": "code",
   "execution_count": 9,
   "id": "36702df2-2af2-4c4b-bb0a-55c12e8f22d4",
   "metadata": {},
   "outputs": [
    {
     "name": "stdout",
     "output_type": "stream",
     "text": [
      "Open 9-5 daily\n"
     ]
    }
   ],
   "source": [
    "import zoo as menagerie\n",
    "menagerie.hours()"
   ]
  },
  {
   "cell_type": "code",
   "execution_count": 1,
   "id": "231c9706-eb32-4930-9195-4b9960073cba",
   "metadata": {},
   "outputs": [
    {
     "name": "stdout",
     "output_type": "stream",
     "text": [
      "books.csv created successfully!\n"
     ]
    }
   ],
   "source": [
    "# 16.1\n",
    "csv_content = \"\"\"author,book\n",
    "J R R Tolkien,The Hobbit\n",
    "Lynne Truss,\"Eats, Shoots & Leaves\"\n",
    "\"\"\"\n",
    "\n",
    "with open('books.csv', 'w') as f:\n",
    "    f.write(csv_content)\n",
    "    \n",
    "print(\"books.csv created successfully!\")"
   ]
  },
  {
   "cell_type": "code",
   "execution_count": 2,
   "id": "8e08d873-f24c-493e-921a-8c6f93a07b4e",
   "metadata": {},
   "outputs": [
    {
     "name": "stdout",
     "output_type": "stream",
     "text": [
      "Contents of books.csv:\n",
      "{'author': 'J R R Tolkien', 'book': 'The Hobbit'}\n",
      "{'author': 'Lynne Truss', 'book': 'Eats, Shoots & Leaves'}\n"
     ]
    }
   ],
   "source": [
    "import csv\n",
    "\n",
    "# 16.2 \n",
    "with open('books.csv', 'r') as f:\n",
    "    books = list(csv.DictReader(f))\n",
    "    \n",
    "print(\"Contents of books.csv:\")\n",
    "for book in books:\n",
    "    print(book)\n",
    "    "
   ]
  },
  {
   "cell_type": "code",
   "execution_count": 3,
   "id": "a547666e-fba9-418d-9bd3-6c4086d80ec6",
   "metadata": {},
   "outputs": [
    {
     "name": "stdout",
     "output_type": "stream",
     "text": [
      "books2.csv created successfully!\n"
     ]
    }
   ],
   "source": [
    "# 16.3 \n",
    "books2_content = \"\"\"title,author,year\n",
    "The Weirdstone of Brisingamen,Alan Garner,1960\n",
    "Perdido Street Station,China Miéville,2000\n",
    "Thud!,Terry Pratchett,2005\n",
    "The Spellman Files,Lisa Lutz,2007\n",
    "Small Gods,Terry Pratchett,1992\n",
    "\"\"\"\n",
    "\n",
    "with open('books2.csv', 'w') as f:\n",
    "    f.write(books2_content)\n",
    "    \n",
    "print(\"books2.csv created successfully!\")"
   ]
  },
  {
   "cell_type": "code",
   "execution_count": 4,
   "id": "10023a26-ab92-4dc1-9adb-a2eb55ffcfec",
   "metadata": {},
   "outputs": [
    {
     "name": "stdout",
     "output_type": "stream",
     "text": [
      "books.db database created with books table.\n"
     ]
    }
   ],
   "source": [
    "import sqlite3\n",
    "\n",
    "# 16.4\n",
    "conn = sqlite3.connect('books.db')\n",
    "cursor = conn.cursor()\n",
    "\n",
    "# Create books table\n",
    "cursor.execute('''\n",
    "    CREATE TABLE IF NOT EXISTS books (\n",
    "        title TEXT,\n",
    "        author TEXT,\n",
    "        year INTEGER\n",
    "    )\n",
    "''')\n",
    "\n",
    "conn.commit()\n",
    "print(\"books.db database created with books table.\")"
   ]
  },
  {
   "cell_type": "code",
   "execution_count": 5,
   "id": "a0794c43-7c87-4a85-9fb4-64ec922e8b7b",
   "metadata": {},
   "outputs": [
    {
     "name": "stdout",
     "output_type": "stream",
     "text": [
      "Data from books2.csv inserted into books table.\n"
     ]
    }
   ],
   "source": [
    "# 16.5 \n",
    "with open('books2.csv', 'r') as f:\n",
    "    reader = csv.DictReader(f)\n",
    "    for row in reader:\n",
    "        cursor.execute('''\n",
    "            INSERT INTO books (title, author, year)\n",
    "            VALUES (?, ?, ?)\n",
    "        ''', (row['title'], row['author'], int(row['year'])))\n",
    "        \n",
    "conn.commit()\n",
    "print(\"Data from books2.csv inserted into books table.\")"
   ]
  },
  {
   "cell_type": "code",
   "execution_count": 6,
   "id": "8dd59aed-9ac0-44ec-a20e-a4a6698c553d",
   "metadata": {},
   "outputs": [
    {
     "name": "stdout",
     "output_type": "stream",
     "text": [
      "Book titles in alphabetical order:\n",
      "Perdido Street Station\n",
      "Small Gods\n",
      "The Spellman Files\n",
      "The Weirdstone of Brisingamen\n",
      "Thud!\n"
     ]
    }
   ],
   "source": [
    "# 16.6 \n",
    "print(\"Book titles in alphabetical order:\")\n",
    "cursor.execute('SELECT title FROM books ORDER BY title ASC')\n",
    "for row in cursor.fetchall():\n",
    "    print(row[0])"
   ]
  },
  {
   "cell_type": "code",
   "execution_count": null,
   "id": "a9100aa7-8245-4bf4-b550-8ddf29235301",
   "metadata": {},
   "outputs": [],
   "source": []
  }
 ],
 "metadata": {
  "kernelspec": {
   "display_name": "anaconda-2024.02-py310",
   "language": "python",
   "name": "conda-env-anaconda-2024.02-py310-py"
  },
  "language_info": {
   "codemirror_mode": {
    "name": "ipython",
    "version": 3
   },
   "file_extension": ".py",
   "mimetype": "text/x-python",
   "name": "python",
   "nbconvert_exporter": "python",
   "pygments_lexer": "ipython3",
   "version": "3.10.14"
  }
 },
 "nbformat": 4,
 "nbformat_minor": 5
}
