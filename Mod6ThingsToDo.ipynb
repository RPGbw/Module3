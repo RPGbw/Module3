{
 "cells": [
  {
   "cell_type": "code",
   "execution_count": 2,
   "id": "415d4b62-985b-4967-bf47-741d868ca5c7",
   "metadata": {},
   "outputs": [],
   "source": [
    "# 13.1\n",
    "from datetime import date\n",
    "present = date.today()\n",
    "with open(\"today.txt\", \"w\") as f:\n",
    "    f.write(str(present))"
   ]
  },
  {
   "cell_type": "code",
   "execution_count": 3,
   "id": "20be6491-e70c-4d75-bb08-2afeb7b19d84",
   "metadata": {},
   "outputs": [],
   "source": [
    "#13.2\n",
    "with open(\"today.txt\") as f:\n",
    "    today_string = f.read()"
   ]
  },
  {
   "cell_type": "code",
   "execution_count": 4,
   "id": "ffa40f88-cd28-4966-a047-cfec23ed5796",
   "metadata": {},
   "outputs": [
    {
     "name": "stdout",
     "output_type": "stream",
     "text": [
      "2025-07-15\n"
     ]
    }
   ],
   "source": [
    "#13.3\n",
    "print(today_string)"
   ]
  },
  {
   "cell_type": "code",
   "execution_count": 5,
   "id": "31fb9ba8-f676-434e-abb7-91c4fe931434",
   "metadata": {},
   "outputs": [
    {
     "name": "stdout",
     "output_type": "stream",
     "text": [
      "Process Process-3: Waited 0.455 sec | Current Time: Tue Jul 15 15:20:50 2025\n",
      "Process Process-1: Waited 0.713 sec | Current Time: Tue Jul 15 15:20:51 2025\n",
      "Process Process-2: Waited 0.921 sec | Current Time: Tue Jul 15 15:20:51 2025\n"
     ]
    }
   ],
   "source": [
    "#15.1\n",
    "\n",
    "import multiprocessing\n",
    "import random\n",
    "import time\n",
    "\n",
    "def print_current_time():\n",
    "    delay = random.random()\n",
    "    time.sleep(delay)\n",
    "    current_time = time.time()\n",
    "    readable_time = time.ctime(current_time) \n",
    "    print(f\"Process {multiprocessing.current_process().name}: \"\n",
    "          f\"Waited {delay:.3f} sec | Current Time: {readable_time}\")\n",
    "if __name__ == \"__main__\":\n",
    "    processes = []\n",
    "    for i in range(3):\n",
    "        p = multiprocessing.Process(target=print_current_time, name=f\"Process-{i+1}\")\n",
    "        processes.append(p)\n",
    "        p.start()\n",
    "    for p in processes:\n",
    "        p.join()  "
   ]
  },
  {
   "cell_type": "code",
   "execution_count": null,
   "id": "47006072-561b-4238-b36c-509be8e6f4ef",
   "metadata": {},
   "outputs": [],
   "source": []
  }
 ],
 "metadata": {
  "kernelspec": {
   "display_name": "anaconda-2024.02-py310",
   "language": "python",
   "name": "conda-env-anaconda-2024.02-py310-py"
  },
  "language_info": {
   "codemirror_mode": {
    "name": "ipython",
    "version": 3
   },
   "file_extension": ".py",
   "mimetype": "text/x-python",
   "name": "python",
   "nbconvert_exporter": "python",
   "pygments_lexer": "ipython3",
   "version": "3.10.14"
  }
 },
 "nbformat": 4,
 "nbformat_minor": 5
}
