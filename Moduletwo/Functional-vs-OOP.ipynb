{
 "cells": [
  {
   "cell_type": "code",
   "execution_count": 8,
   "id": "d03ea0e5-d1d6-4b4b-a387-e908d20655ee",
   "metadata": {},
   "outputs": [
    {
     "name": "stdout",
     "output_type": "stream",
     "text": [
      "[0, 0, 1, 1, 2, 2]\n"
     ]
    }
   ],
   "source": [
    "#sorting an array of 0s, 1s, and 2s\n",
    "arrange = [0, 1, 2, 0, 1, 2]\n",
    "\n",
    "def sort012(arrange):\n",
    "    low = 0\n",
    "    mid = 0\n",
    "    high = len(arrange) -1\n",
    "\n",
    "    while mid <= high:\n",
    "        if arrange[mid] == 0:\n",
    "            arrange[low], arrange[mid] = arrange[mid], arrange[low]\n",
    "            low += 1\n",
    "            mid += 1\n",
    "        elif arrange[mid] == 1:\n",
    "            mid += 1\n",
    "        else:\n",
    "            arrange[mid], arrange[high] = arrange[high], arrange[mid]\n",
    "            high -= 1\n",
    "    return arrange\n",
    "print(sort012(arrange))"
   ]
  },
  {
   "cell_type": "code",
   "execution_count": 11,
   "id": "c4ff4442-c0f9-4cf6-a759-304129d10f4f",
   "metadata": {},
   "outputs": [
    {
     "name": "stdout",
     "output_type": "stream",
     "text": [
      "3\n"
     ]
    }
   ],
   "source": [
    "#binary search\n",
    "\n",
    "arrange = [1, 2, 3, 4, 5]\n",
    "k = 4\n",
    "\n",
    "def binary_search(arrange, k):\n",
    "    left = 0\n",
    "    right = len(arrange) - 1\n",
    "    result = -1  # Default if k is not found\n",
    "\n",
    "    while left <= right:\n",
    "        mid = left + (right - left) // 2  # Avoids overflow\n",
    "        if arrange[mid] == k:\n",
    "            result = mid  # Update result\n",
    "            right = mid - 1  # Search left for earlier occurrences\n",
    "        elif arrange[mid] < k:\n",
    "            left = mid + 1  # Search right half\n",
    "        else:\n",
    "            right = mid - 1  # Search left half\n",
    "    return result\n",
    "print(binary_search(arrange, k))"
   ]
  },
  {
   "cell_type": "code",
   "execution_count": 12,
   "id": "150d4515-0563-44c9-90cf-5e7b7ce80e16",
   "metadata": {},
   "outputs": [
    {
     "name": "stdout",
     "output_type": "stream",
     "text": [
      "0\n"
     ]
    }
   ],
   "source": [
    "print(binary_search([1, 1, 1, 1, 2], 1))"
   ]
  },
  {
   "cell_type": "code",
   "execution_count": 13,
   "id": "9de4c54d-f3e1-4447-b79b-15847e292228",
   "metadata": {},
   "outputs": [
    {
     "name": "stdout",
     "output_type": "stream",
     "text": [
      "-1\n"
     ]
    }
   ],
   "source": [
    "print(binary_search([11, 22, 33, 44, 55], 445))"
   ]
  },
  {
   "cell_type": "code",
   "execution_count": null,
   "id": "9942b950-23ac-461f-97ee-1be21e7682d6",
   "metadata": {},
   "outputs": [],
   "source": []
  }
 ],
 "metadata": {
  "kernelspec": {
   "display_name": "anaconda-2024.02-py310",
   "language": "python",
   "name": "conda-env-anaconda-2024.02-py310-py"
  },
  "language_info": {
   "codemirror_mode": {
    "name": "ipython",
    "version": 3
   },
   "file_extension": ".py",
   "mimetype": "text/x-python",
   "name": "python",
   "nbconvert_exporter": "python",
   "pygments_lexer": "ipython3",
   "version": "3.10.14"
  }
 },
 "nbformat": 4,
 "nbformat_minor": 5
}
